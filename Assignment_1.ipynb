{
 "cells": [
  {
   "cell_type": "code",
   "execution_count": 2,
   "metadata": {},
   "outputs": [
    {
     "name": "stdout",
     "output_type": "stream",
     "text": [
      "[8, 9, 10, 11, 12]\n",
      "[8, 9, 10, 11, 12]\n"
     ]
    }
   ],
   "source": [
    "\"\"\"1) Given a list\n",
    "\n",
    " R = [1, 2, 3, 4, 5, 6, 7, 8, 9, 10, 11, 12, 13, 14, 15, 16]\n",
    "\n",
    "\n",
    "Produce an ouput:-  [8, 9, 10, 11, 12]\n",
    "  \n",
    "\n",
    "Do this by using slicing from the front (positive)\n",
    "Do this by using slicing from the back (negative)\n",
    "\"\"\"\n",
    "# SOLUTION :-\n",
    "R = [1, 2, 3, 4, 5, 6, 7, 8, 9, 10, 11, 12, 13, 14, 15, 16]\n",
    "print(R[7:12])\n",
    "print(R[-9:-4])"
   ]
  },
  {
   "cell_type": "code",
   "execution_count": 3,
   "metadata": {},
   "outputs": [
    {
     "name": "stdout",
     "output_type": "stream",
     "text": [
      "[2, 4, 6, 8, 10, 12, 14, 16]\n"
     ]
    }
   ],
   "source": [
    "\"\"\"2) Given a list\n",
    "\n",
    " x = [1, 2, 3, 4, 5, 6, 7, 8, 9, 10, 11, 12, 13, 14, 15, 16]\n",
    "\n",
    "\n",
    "Print even number from x using list slicing only.\n",
    "\n",
    "Output should be like:-  [2, 4, 6, 8, 10, 12, 14, 16]\n",
    "\"\"\"\n",
    "\n",
    "# SOLUTION :-\n",
    "\n",
    "x = [1, 2, 3, 4, 5, 6, 7, 8, 9, 10, 11, 12, 13, 14, 15, 16]\n",
    "print(x[1::2])"
   ]
  },
  {
   "cell_type": "code",
   "execution_count": 5,
   "metadata": {},
   "outputs": [
    {
     "name": "stdout",
     "output_type": "stream",
     "text": [
      "[1, 5, 9, 13]\n"
     ]
    }
   ],
   "source": [
    "\"\"\"3) Given a list\n",
    "\n",
    " x = [1, 2, 3, 4, 5, 6, 7, 8, 9, 10, 11, 12, 13, 14, 15, 16]\n",
    "\n",
    "\n",
    "Print every 4th number using list slicing only.\n",
    "\n",
    "\n",
    "Output should be like:-\n",
    "\n",
    "  [1, 5, 9, 13]\n",
    "\"\"\"\n",
    "# SOLUTION :-\n",
    "x = [1, 2, 3, 4, 5, 6, 7, 8, 9, 10, 11, 12, 13, 14, 15, 16]\n",
    "print(x[::4])"
   ]
  },
  {
   "cell_type": "code",
   "execution_count": null,
   "metadata": {},
   "outputs": [],
   "source": []
  }
 ],
 "metadata": {
  "kernelspec": {
   "display_name": "Python 3",
   "language": "python",
   "name": "python3"
  },
  "language_info": {
   "codemirror_mode": {
    "name": "ipython",
    "version": 3
   },
   "file_extension": ".py",
   "mimetype": "text/x-python",
   "name": "python",
   "nbconvert_exporter": "python",
   "pygments_lexer": "ipython3",
   "version": "3.7.1"
  }
 },
 "nbformat": 4,
 "nbformat_minor": 2
}
