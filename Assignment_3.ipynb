{
 "cells": [
  {
   "cell_type": "code",
   "execution_count": 5,
   "metadata": {},
   "outputs": [
    {
     "name": "stdout",
     "output_type": "stream",
     "text": [
      "Enter value of P(A) :- 7\n",
      "Enter value of P(B) :- 23\n",
      "Enter value of P(A|B) :- 42\n",
      "The probability is :-  138.0\n"
     ]
    }
   ],
   "source": [
    "\"\"\"Q.1 - Consider the below given probabilities: \n",
    "P(A) = 11 / 36\n",
    "P(B) = 6 / 36\n",
    "P(A|B) = 2 / 36\n",
    "Write a function in Python which takes 3 probabilities as argument and outputs the Conditional probability P(B|A).\n",
    "\"\"\"\n",
    "\n",
    "# Sol:-\n",
    "\n",
    "a = float(input(\"Enter value of P(A) :- \"))\n",
    "b = float(input(\"Enter value of P(B) :- \"))\n",
    "c = float(input(\"Enter value of P(A|B) :- \"))\n",
    "Output = ((c*b)/a)\n",
    "print(\"The probability is :- \",Output)"
   ]
  },
  {
   "cell_type": "code",
   "execution_count": 9,
   "metadata": {},
   "outputs": [
    {
     "name": "stdout",
     "output_type": "stream",
     "text": [
      "The probability that the ball is drawn from bag1 is :-  0.5833333333333334\n"
     ]
    }
   ],
   "source": [
    "\"\"\"\n",
    "Q.2 - Bag I contains 4 white and 6 black balls while another Bag II contains 4 white and 3 black balls.\n",
    "One ball is drawn at random from one of the bags and it is found to be black.\n",
    "Find the probability that it was drawn from Bag I.\n",
    "\"\"\"\n",
    "\n",
    "# Sol:-\n",
    "\n",
    "bag1=1/2               \n",
    "bag2=1/2\n",
    "black1=6/10\n",
    "black2=3/7\n",
    "\n",
    "Probability = (bag1*black1)/((bag1*black1)+(bag2*black2))\n",
    "print(\"The probability that the ball is drawn from bag1 is :- \",Probability)"
   ]
  },
  {
   "cell_type": "code",
   "execution_count": 12,
   "metadata": {},
   "outputs": [
    {
     "name": "stdout",
     "output_type": "stream",
     "text": [
      "Probability that the number obtained is actually a ' four (4)' : -  0.2857142857142857\n"
     ]
    }
   ],
   "source": [
    "\"\"\"\n",
    "Q.3 - A man is known to speak truth 2 out of 3 times.\n",
    "He throws a die and reports that number obtained is a four.\n",
    "Find the probability that the number obtained is actually a four.\n",
    "\"\"\"\n",
    "\n",
    "# Sol:-\n",
    "\n",
    "speak_truth = 2/3\n",
    "speak_lie = 1/3\n",
    "fourtimes_true = 1/6\n",
    "fourtimes_lie = 5/6\n",
    "\n",
    "r = ( \n",
    "    (speak_truth * fourtimes_true) / ((speak_truth * fourtimes_true) + (speak_lie * fourtimes_lie)) \n",
    "    )\n",
    "print(\"Probability that the number obtained is actually a ' four (4)' : - \", r)"
   ]
  },
  {
   "cell_type": "code",
   "execution_count": null,
   "metadata": {},
   "outputs": [],
   "source": []
  }
 ],
 "metadata": {
  "kernelspec": {
   "display_name": "Python 3",
   "language": "python",
   "name": "python3"
  },
  "language_info": {
   "codemirror_mode": {
    "name": "ipython",
    "version": 3
   },
   "file_extension": ".py",
   "mimetype": "text/x-python",
   "name": "python",
   "nbconvert_exporter": "python",
   "pygments_lexer": "ipython3",
   "version": "3.7.1"
  }
 },
 "nbformat": 4,
 "nbformat_minor": 2
}
